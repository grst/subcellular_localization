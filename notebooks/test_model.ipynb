{
 "cells": [
  {
   "cell_type": "code",
   "execution_count": 3,
   "metadata": {},
   "outputs": [
    {
     "name": "stderr",
     "output_type": "stream",
     "text": [
      "Using gpu device 0: Tesla K80 (CNMeM is disabled, cuDNN 5110)\n",
      "/home/sturm/projects/subcellular_localization/venv/local/lib/python2.7/site-packages/theano/sandbox/cuda/__init__.py:600: UserWarning: Your cuDNN version is more recent than the one Theano officially supports. If you see any problems, try updating Theano or downgrading cuDNN to version 5.\n",
      "  warnings.warn(warn)\n",
      "/home/sturm/projects/subcellular_localization/venv/local/lib/python2.7/site-packages/theano/tensor/signal/downsample.py:6: UserWarning: downsample module has been moved to the theano.tensor.signal.pool module.\n",
      "  \"downsample module has been moved to the theano.tensor.signal.pool module.\")\n"
     ]
    }
   ],
   "source": [
    "import pickle\n",
    "import sys\n",
    "sys.path.append(\"..\")\n",
    "from model import *\n",
    "import cPickle as pickle\n",
    "from theano.misc.pkl_utils import load, dump, PersistentCudaNdarrayID\n",
    "import numpy as np\n",
    "import pandas as pd"
   ]
  },
  {
   "cell_type": "code",
   "execution_count": 4,
   "metadata": {},
   "outputs": [],
   "source": [
    "val_fn = pickle.load(open(\"../models/fold_1_val_fn.pickle\", 'rb'))"
   ]
  },
  {
   "cell_type": "code",
   "execution_count": 5,
   "metadata": {},
   "outputs": [],
   "source": [
    "traind = np.load(\"../data/train.npz\")"
   ]
  },
  {
   "cell_type": "code",
   "execution_count": 6,
   "metadata": {},
   "outputs": [
    {
     "data": {
      "text/plain": [
       "['mask_train', 'partition', 'X_train', 'y_train']"
      ]
     },
     "execution_count": 6,
     "metadata": {},
     "output_type": "execute_result"
    }
   ],
   "source": [
    "list(traind)"
   ]
  },
  {
   "cell_type": "code",
   "execution_count": 7,
   "metadata": {},
   "outputs": [
    {
     "data": {
      "text/plain": [
       "(4763, 1000, 20)"
      ]
     },
     "execution_count": 7,
     "metadata": {},
     "output_type": "execute_result"
    }
   ],
   "source": [
    "traind['X_train'].shape"
   ]
  },
  {
   "cell_type": "code",
   "execution_count": 8,
   "metadata": {},
   "outputs": [
    {
     "data": {
      "text/plain": [
       "array([0.49, 0.  , 0.  , 0.  , 0.  , 0.  , 0.  , 0.  , 0.  , 0.  , 0.  ,\n",
       "       0.  , 0.  , 0.  , 0.  , 0.51, 0.  , 0.  , 0.  , 0.  ],\n",
       "      dtype=float32)"
      ]
     },
     "execution_count": 8,
     "metadata": {},
     "output_type": "execute_result"
    }
   ],
   "source": [
    "traind['X_train'][0,5]"
   ]
  },
  {
   "cell_type": "code",
   "execution_count": 9,
   "metadata": {},
   "outputs": [],
   "source": [
    "testd = np.load(\"../data/test.npz\")"
   ]
  },
  {
   "cell_type": "code",
   "execution_count": 10,
   "metadata": {},
   "outputs": [
    {
     "data": {
      "text/plain": [
       "['X_test', 'mask_test', 'y_test']"
      ]
     },
     "execution_count": 10,
     "metadata": {},
     "output_type": "execute_result"
    }
   ],
   "source": [
    "list(testd)"
   ]
  },
  {
   "cell_type": "code",
   "execution_count": 11,
   "metadata": {},
   "outputs": [],
   "source": [
    "inputs = testd['X_test']\n",
    "targets = testd['y_test']\n",
    "in_masks = testd['mask_test']"
   ]
  },
  {
   "cell_type": "code",
   "execution_count": 12,
   "metadata": {},
   "outputs": [
    {
     "data": {
      "text/plain": [
       "(128, 1000, 20)"
      ]
     },
     "execution_count": 12,
     "metadata": {},
     "output_type": "execute_result"
    }
   ],
   "source": [
    "inputs[:128].shape"
   ]
  },
  {
   "cell_type": "code",
   "execution_count": 13,
   "metadata": {},
   "outputs": [
    {
     "data": {
      "text/plain": [
       "(1195,)"
      ]
     },
     "execution_count": 13,
     "metadata": {},
     "output_type": "execute_result"
    }
   ],
   "source": [
    "targets.shape"
   ]
  },
  {
   "cell_type": "code",
   "execution_count": 14,
   "metadata": {},
   "outputs": [
    {
     "data": {
      "text/plain": [
       "(128, 1000)"
      ]
     },
     "execution_count": 14,
     "metadata": {},
     "output_type": "execute_result"
    }
   ],
   "source": [
    "in_masks[:128].shape"
   ]
  },
  {
   "cell_type": "code",
   "execution_count": 15,
   "metadata": {},
   "outputs": [],
   "source": [
    "err, net_out, alpha, context, sigmoid, net_id = val_fn(inputs[-128:], targets[-128:], in_masks[-128:])"
   ]
  },
  {
   "cell_type": "code",
   "execution_count": 16,
   "metadata": {},
   "outputs": [
    {
     "data": {
      "text/plain": [
       "array([9, 9, 2, 2, 2, 2, 1, 1, 6, 6, 7, 1, 1, 0, 0, 8, 8, 4, 4, 3, 9, 1,\n",
       "       2, 2, 5, 2, 4, 2, 2, 5, 0, 4, 4, 2, 2, 4, 4, 1, 1, 1, 1, 1, 1, 2,\n",
       "       2, 1, 1, 0, 0, 3, 8, 8, 2, 2, 3, 3, 7, 1, 7, 1, 4, 4, 0, 0, 8, 8,\n",
       "       4, 4, 1, 3, 2, 2, 0, 5, 5, 2, 4, 4, 4, 4, 6, 6, 6, 6, 3, 1, 1, 8,\n",
       "       0, 0, 1, 1, 1, 4, 4, 0, 0, 7, 4, 4, 0, 2, 3, 3, 1, 1, 2, 4, 4, 2,\n",
       "       0, 0, 1, 9, 9, 4, 4, 6, 6, 3, 1, 1, 4, 1, 1, 1, 4, 4], dtype=int32)"
      ]
     },
     "execution_count": 16,
     "metadata": {},
     "output_type": "execute_result"
    }
   ],
   "source": [
    "targets[-128:]"
   ]
  },
  {
   "cell_type": "code",
   "execution_count": 17,
   "metadata": {},
   "outputs": [],
   "source": [
    "%matplotlib inline\n",
    "from pylab import * "
   ]
  },
  {
   "cell_type": "code",
   "execution_count": 18,
   "metadata": {},
   "outputs": [
    {
     "data": {
      "text/plain": [
       "array([[2.39200366e-04, 6.57564998e-02, 8.85386726e-06, ...,\n",
       "        1.02350896e-06, 2.41720656e-04, 9.60006416e-01],\n",
       "       [1.30528107e-01, 4.79474306e-01, 2.81879504e-04, ...,\n",
       "        1.49351559e-04, 1.00908498e-03, 4.55644876e-01],\n",
       "       [6.92079965e-13, 1.01069667e-10, 9.99997854e-01, ...,\n",
       "        1.54598521e-11, 1.06102185e-08, 1.44789752e-13],\n",
       "       ...,\n",
       "       [5.51600195e-02, 6.72021627e-01, 5.13188861e-05, ...,\n",
       "        1.27632175e-05, 1.79351220e-04, 2.67454505e-01],\n",
       "       [8.57944649e-09, 5.39726216e-07, 1.39103140e-05, ...,\n",
       "        1.82186952e-07, 3.98175252e-05, 4.37015046e-09],\n",
       "       [1.53563329e-09, 1.85161468e-08, 1.26323628e-03, ...,\n",
       "        1.95032235e-09, 3.19539744e-04, 2.87241303e-12]], dtype=float32)"
      ]
     },
     "execution_count": 18,
     "metadata": {},
     "output_type": "execute_result"
    }
   ],
   "source": [
    "net_out"
   ]
  },
  {
   "cell_type": "code",
   "execution_count": 19,
   "metadata": {},
   "outputs": [
    {
     "data": {
      "text/plain": [
       "(array([  1.,   0.,   0.,   2.,   2.,   5., 115.,   2.,   0.,   1.]),\n",
       " array([0.01515602, 0.17401253, 0.33286904, 0.49172556, 0.65058207,\n",
       "        0.80943858, 0.96829509, 1.1271516 , 1.28600812, 1.44486463,\n",
       "        1.60372114]),\n",
       " <a list of 10 Patch objects>)"
      ]
     },
     "execution_count": 19,
     "metadata": {},
     "output_type": "execute_result"
    },
    {
     "data": {
      "image/png": "[encoded data removed]",
      "text/plain": [
       "<matplotlib.figure.Figure at 0x7f23f9ecf350>"
      ]
     },
     "metadata": {},
     "output_type": "display_data"
    }
   ],
   "source": [
    "hist(np.sum(net_out, axis=1))"
   ]
  },
  {
   "cell_type": "code",
   "execution_count": 20,
   "metadata": {},
   "outputs": [
    {
     "data": {
      "text/plain": [
       "array([[ 0.32896236,  0.06774037, -0.5261674 , ..., -1.1526583 ,\n",
       "        -0.16703285, -1.1350752 ],\n",
       "       [-0.12764075,  0.2792887 , -0.0420969 , ..., -1.5465603 ,\n",
       "        -0.05688022, -0.69259137],\n",
       "       [-1.4567997 , -0.86307317, -1.2592809 , ...,  0.09078232,\n",
       "         0.76111364, -3.2685854 ],\n",
       "       ...,\n",
       "       [ 0.11708695,  0.43958697,  0.15323375, ..., -1.3279767 ,\n",
       "        -0.02258555, -0.9549487 ],\n",
       "       [ 0.8547496 ,  2.3493319 ,  1.743664  , ...,  0.6761576 ,\n",
       "         1.2538513 , -0.65895617],\n",
       "       [ 1.7378442 ,  2.6785152 ,  2.271077  , ...,  0.06914189,\n",
       "         1.2189438 , -1.4900796 ]], dtype=float32)"
      ]
     },
     "execution_count": 20,
     "metadata": {},
     "output_type": "execute_result"
    }
   ],
   "source": [
    "net_id"
   ]
  },
  {
   "cell_type": "code",
   "execution_count": 21,
   "metadata": {},
   "outputs": [
    {
     "data": {
      "text/plain": [
       "<matplotlib.image.AxesImage at 0x7f23f13ced50>"
      ]
     },
     "execution_count": 21,
     "metadata": {},
     "output_type": "execute_result"
    },
    {
     "data": {
      "image/png": "[encoded data removed]",
      "text/plain": [
       "<matplotlib.figure.Figure at 0x7f23f9ec0e50>"
      ]
     },
     "metadata": {},
     "output_type": "display_data"
    }
   ],
   "source": [
    "fig, (ax1, ax2, ax3) = subplots(1, 3, figsize=(10, 30))\n",
    "ax1.matshow(net_out)\n",
    "ax2.matshow(sigmoid)\n",
    "ax3.matshow(net_id)"
   ]
  },
  {
   "cell_type": "markdown",
   "metadata": {},
   "source": [
    "## predict hpa"
   ]
  },
  {
   "cell_type": "code",
   "execution_count": 22,
   "metadata": {},
   "outputs": [],
   "source": [
    "hpa = np.load(\"./../../deeploc_multi/results/hpa_matrices.npz\")"
   ]
  },
  {
   "cell_type": "code",
   "execution_count": 23,
   "metadata": {},
   "outputs": [
    {
     "data": {
      "text/plain": [
       "['masks', 'encoded_seqs', 'identifiers']"
      ]
     },
     "execution_count": 23,
     "metadata": {},
     "output_type": "execute_result"
    }
   ],
   "source": [
    "list(hpa)"
   ]
  },
  {
   "cell_type": "code",
   "execution_count": 24,
   "metadata": {},
   "outputs": [
    {
     "data": {
      "text/html": [
       "<div>\n",
       "<style scoped>\n",
       "    .dataframe tbody tr th:only-of-type {\n",
       "        vertical-align: middle;\n",
       "    }\n",
       "\n",
       "    .dataframe tbody tr th {\n",
       "        vertical-align: top;\n",
       "    }\n",
       "\n",
       "    .dataframe thead th {\n",
       "        text-align: right;\n",
       "    }\n",
       "</style>\n",
       "<table border=\"1\" class=\"dataframe\">\n",
       "  <thead>\n",
       "    <tr style=\"text-align: right;\">\n",
       "      <th></th>\n",
       "      <th>status</th>\n",
       "      <th>subcellular_location</th>\n",
       "      <th>uniprot</th>\n",
       "    </tr>\n",
       "  </thead>\n",
       "  <tbody>\n",
       "    <tr>\n",
       "      <th>0</th>\n",
       "      <td>Validated</td>\n",
       "      <td>Endoplasmic reticulum</td>\n",
       "      <td>NaN</td>\n",
       "    </tr>\n",
       "    <tr>\n",
       "      <th>1</th>\n",
       "      <td>Validated</td>\n",
       "      <td>Mitochondria</td>\n",
       "      <td>Q92934</td>\n",
       "    </tr>\n",
       "    <tr>\n",
       "      <th>2</th>\n",
       "      <td>Validated</td>\n",
       "      <td>Mitochondria</td>\n",
       "      <td>A0A024R562</td>\n",
       "    </tr>\n",
       "    <tr>\n",
       "      <th>3</th>\n",
       "      <td>Validated</td>\n",
       "      <td>Nucleoplasm</td>\n",
       "      <td>P52756</td>\n",
       "    </tr>\n",
       "    <tr>\n",
       "      <th>4</th>\n",
       "      <td>Validated</td>\n",
       "      <td>Nucleoplasm</td>\n",
       "      <td>E1CJT4</td>\n",
       "    </tr>\n",
       "  </tbody>\n",
       "</table>\n",
       "</div>"
      ],
      "text/plain": [
       "      status   subcellular_location     uniprot\n",
       "0  Validated  Endoplasmic reticulum         NaN\n",
       "1  Validated           Mitochondria      Q92934\n",
       "2  Validated           Mitochondria  A0A024R562\n",
       "3  Validated            Nucleoplasm      P52756\n",
       "4  Validated            Nucleoplasm      E1CJT4"
      ]
     },
     "execution_count": 24,
     "metadata": {},
     "output_type": "execute_result"
    }
   ],
   "source": [
    "hpa_uniprot = pd.read_csv(\"../../deeploc_multi/results_git/hpa_uniprot.tsv\", sep=\"\\t\")\n",
    "hpa_uniprot.head()"
   ]
  },
  {
   "cell_type": "code",
   "execution_count": 25,
   "metadata": {},
   "outputs": [
    {
     "data": {
      "text/plain": [
       "(1195, 1000, 20)"
      ]
     },
     "execution_count": 25,
     "metadata": {},
     "output_type": "execute_result"
    }
   ],
   "source": [
    "inputs.shape"
   ]
  },
  {
   "cell_type": "code",
   "execution_count": 26,
   "metadata": {},
   "outputs": [
    {
     "data": {
      "text/plain": [
       "array([0.  , 0.48, 0.  , 0.  , 0.  , 0.29, 0.  , 0.  , 0.  , 0.  , 0.  ,\n",
       "       0.24, 0.  , 0.  , 0.  , 0.  , 0.  , 0.  , 0.  , 0.  ],\n",
       "      dtype=float32)"
      ]
     },
     "execution_count": 26,
     "metadata": {},
     "output_type": "execute_result"
    }
   ],
   "source": [
    "traind['X_train'][1,1,:]"
   ]
  },
  {
   "cell_type": "code",
   "execution_count": 27,
   "metadata": {},
   "outputs": [
    {
     "data": {
      "text/plain": [
       "array([0., 0., 0., 0., 0., 0., 0., 0., 0., 0., 1., 0., 0., 0., 0., 0., 0.,\n",
       "       0., 0., 0.], dtype=float32)"
      ]
     },
     "execution_count": 27,
     "metadata": {},
     "output_type": "execute_result"
    }
   ],
   "source": [
    "hpa['encoded_seqs'][0,0]"
   ]
  },
  {
   "cell_type": "code",
   "execution_count": 26,
   "metadata": {},
   "outputs": [],
   "source": [
    "err, net_out, alpha, context, sigmoid, net_id = val_fn(inputs[-128:], targets[-128:], in_masks[-128:])"
   ]
  },
  {
   "cell_type": "code",
   "execution_count": 27,
   "metadata": {},
   "outputs": [],
   "source": [
    "predictions = np.zeros((hpa['encoded_seqs'].shape[0], 10))\n",
    "for i in range(128, hpa['encoded_seqs'].shape[0], 128):\n",
    "    err, net_out, alpha, context, sigmoid, net_id = val_fn(hpa['encoded_seqs'][i-128:i], targets[-128:], hpa['masks'][i-128:i])\n",
    "    predictions[i-128:i] = net_out"
   ]
  },
  {
   "cell_type": "code",
   "execution_count": 28,
   "metadata": {},
   "outputs": [],
   "source": [
    "np.save(\"./results/predictions_hpa.npy\", predictions)"
   ]
  },
  {
   "cell_type": "code",
   "execution_count": 28,
   "metadata": {},
   "outputs": [],
   "source": [
    "predictions = np.load(\"./results/predictions_hpa.npy\")"
   ]
  },
  {
   "cell_type": "code",
   "execution_count": 29,
   "metadata": {},
   "outputs": [
    {
     "data": {
      "text/plain": [
       "<matplotlib.image.AxesImage at 0x7f23f12ecbd0>"
      ]
     },
     "execution_count": 29,
     "metadata": {},
     "output_type": "execute_result"
    },
    {
     "data": {
      "image/png": "[encoded data removed]",
      "text/plain": [
       "<matplotlib.figure.Figure at 0x7f23f13874d0>"
      ]
     },
     "metadata": {},
     "output_type": "display_data"
    }
   ],
   "source": [
    "fig, (ax1, ax2, ax3) = subplots(1, 3, figsize=(10, 30))\n",
    "ax1.matshow(net_out)\n",
    "ax2.matshow(sigmoid)\n",
    "ax3.matshow(net_id)"
   ]
  },
  {
   "cell_type": "code",
   "execution_count": 30,
   "metadata": {},
   "outputs": [],
   "source": [
    "pred = pd.DataFrame({'uniprot': hpa['identifiers'], 'sum': np.sum(predictions, axis=1)})"
   ]
  },
  {
   "cell_type": "code",
   "execution_count": 31,
   "metadata": {},
   "outputs": [],
   "source": [
    "pred = pred.merge(hpa_uniprot, how=\"inner\", on=[\"uniprot\"])"
   ]
  },
  {
   "cell_type": "code",
   "execution_count": 32,
   "metadata": {},
   "outputs": [
    {
     "data": {
      "text/html": [
       "<div>\n",
       "<style scoped>\n",
       "    .dataframe tbody tr th:only-of-type {\n",
       "        vertical-align: middle;\n",
       "    }\n",
       "\n",
       "    .dataframe tbody tr th {\n",
       "        vertical-align: top;\n",
       "    }\n",
       "\n",
       "    .dataframe thead th {\n",
       "        text-align: right;\n",
       "    }\n",
       "</style>\n",
       "<table border=\"1\" class=\"dataframe\">\n",
       "  <thead>\n",
       "    <tr style=\"text-align: right;\">\n",
       "      <th></th>\n",
       "      <th>sum</th>\n",
       "      <th>uniprot</th>\n",
       "      <th>status</th>\n",
       "      <th>subcellular_location</th>\n",
       "    </tr>\n",
       "  </thead>\n",
       "  <tbody>\n",
       "    <tr>\n",
       "      <th>0</th>\n",
       "      <td>0.989549</td>\n",
       "      <td>Q92934</td>\n",
       "      <td>Validated</td>\n",
       "      <td>Mitochondria</td>\n",
       "    </tr>\n",
       "    <tr>\n",
       "      <th>1</th>\n",
       "      <td>0.989549</td>\n",
       "      <td>A0A024R562</td>\n",
       "      <td>Validated</td>\n",
       "      <td>Mitochondria</td>\n",
       "    </tr>\n",
       "    <tr>\n",
       "      <th>2</th>\n",
       "      <td>0.117196</td>\n",
       "      <td>P52756</td>\n",
       "      <td>Validated</td>\n",
       "      <td>Nucleoplasm</td>\n",
       "    </tr>\n",
       "    <tr>\n",
       "      <th>3</th>\n",
       "      <td>1.003529</td>\n",
       "      <td>E1CJT4</td>\n",
       "      <td>Validated</td>\n",
       "      <td>Nucleoplasm</td>\n",
       "    </tr>\n",
       "    <tr>\n",
       "      <th>4</th>\n",
       "      <td>0.117196</td>\n",
       "      <td>A0A024R2U6</td>\n",
       "      <td>Validated</td>\n",
       "      <td>Nucleoplasm</td>\n",
       "    </tr>\n",
       "  </tbody>\n",
       "</table>\n",
       "</div>"
      ],
      "text/plain": [
       "        sum     uniprot     status subcellular_location\n",
       "0  0.989549      Q92934  Validated         Mitochondria\n",
       "1  0.989549  A0A024R562  Validated         Mitochondria\n",
       "2  0.117196      P52756  Validated          Nucleoplasm\n",
       "3  1.003529      E1CJT4  Validated          Nucleoplasm\n",
       "4  0.117196  A0A024R2U6  Validated          Nucleoplasm"
      ]
     },
     "execution_count": 32,
     "metadata": {},
     "output_type": "execute_result"
    }
   ],
   "source": [
    "pred.head()"
   ]
  },
  {
   "cell_type": "code",
   "execution_count": null,
   "metadata": {},
   "outputs": [],
   "source": []
  },
  {
   "cell_type": "code",
   "execution_count": 46,
   "metadata": {},
   "outputs": [],
   "source": [
    "pred_group = pred.groupby([\"uniprot\", \"sum\"]).count().reset_index()\n",
    "pred_group = pred_group.assign(n_loc=[str(x) for x in pred_group.status])"
   ]
  },
  {
   "cell_type": "code",
   "execution_count": 47,
   "metadata": {},
   "outputs": [
    {
     "data": {
      "text/html": [
       "<div>\n",
       "<style scoped>\n",
       "    .dataframe tbody tr th:only-of-type {\n",
       "        vertical-align: middle;\n",
       "    }\n",
       "\n",
       "    .dataframe tbody tr th {\n",
       "        vertical-align: top;\n",
       "    }\n",
       "\n",
       "    .dataframe thead th {\n",
       "        text-align: right;\n",
       "    }\n",
       "</style>\n",
       "<table border=\"1\" class=\"dataframe\">\n",
       "  <thead>\n",
       "    <tr style=\"text-align: right;\">\n",
       "      <th></th>\n",
       "      <th>uniprot</th>\n",
       "      <th>sum</th>\n",
       "      <th>status</th>\n",
       "      <th>subcellular_location</th>\n",
       "      <th>n_loc</th>\n",
       "    </tr>\n",
       "  </thead>\n",
       "  <tbody>\n",
       "    <tr>\n",
       "      <th>0</th>\n",
       "      <td>A0A023T787</td>\n",
       "      <td>1.013415</td>\n",
       "      <td>1</td>\n",
       "      <td>1</td>\n",
       "      <td>1</td>\n",
       "    </tr>\n",
       "    <tr>\n",
       "      <th>1</th>\n",
       "      <td>A0A024QYT5</td>\n",
       "      <td>1.039034</td>\n",
       "      <td>1</td>\n",
       "      <td>1</td>\n",
       "      <td>1</td>\n",
       "    </tr>\n",
       "    <tr>\n",
       "      <th>2</th>\n",
       "      <td>A0A024QYT6</td>\n",
       "      <td>1.659145</td>\n",
       "      <td>2</td>\n",
       "      <td>2</td>\n",
       "      <td>2</td>\n",
       "    </tr>\n",
       "    <tr>\n",
       "      <th>3</th>\n",
       "      <td>A0A024QYT8</td>\n",
       "      <td>1.006584</td>\n",
       "      <td>2</td>\n",
       "      <td>2</td>\n",
       "      <td>2</td>\n",
       "    </tr>\n",
       "    <tr>\n",
       "      <th>4</th>\n",
       "      <td>A0A024QYU9</td>\n",
       "      <td>0.377447</td>\n",
       "      <td>1</td>\n",
       "      <td>1</td>\n",
       "      <td>1</td>\n",
       "    </tr>\n",
       "  </tbody>\n",
       "</table>\n",
       "</div>"
      ],
      "text/plain": [
       "      uniprot       sum  status  subcellular_location n_loc\n",
       "0  A0A023T787  1.013415       1                     1     1\n",
       "1  A0A024QYT5  1.039034       1                     1     1\n",
       "2  A0A024QYT6  1.659145       2                     2     2\n",
       "3  A0A024QYT8  1.006584       2                     2     2\n",
       "4  A0A024QYU9  0.377447       1                     1     1"
      ]
     },
     "execution_count": 47,
     "metadata": {},
     "output_type": "execute_result"
    }
   ],
   "source": [
    "pred_group.head()"
   ]
  },
  {
   "cell_type": "code",
   "execution_count": 48,
   "metadata": {},
   "outputs": [],
   "source": [
    "from plotnine import *"
   ]
  },
  {
   "cell_type": "code",
   "execution_count": 49,
   "metadata": {},
   "outputs": [
    {
     "data": {
      "image/png": "[encoded data removed]",
      "text/plain": [
       "<matplotlib.figure.Figure at 0x7f235dd67dd0>"
      ]
     },
     "metadata": {},
     "output_type": "display_data"
    },
    {
     "data": {
      "text/plain": [
       "<ggplot: (8736867184181)>"
      ]
     },
     "execution_count": 49,
     "metadata": {},
     "output_type": "execute_result"
    }
   ],
   "source": [
    "ggplot(pred_group, aes(x=\"n_loc\", y=\"sum\")) + geom_boxplot()"
   ]
  },
  {
   "cell_type": "code",
   "execution_count": null,
   "metadata": {},
   "outputs": [],
   "source": []
  }
 ],
 "metadata": {
  "kernelspec": {
   "display_name": "subloc2",
   "language": "python",
   "name": "subloc2"
  },
  "language_info": {
   "codemirror_mode": {
    "name": "ipython",
    "version": 2
   },
   "file_extension": ".py",
   "mimetype": "text/x-python",
   "name": "python",
   "nbconvert_exporter": "python",
   "pygments_lexer": "ipython2",
   "version": "2.7.12"
  }
 },
 "nbformat": 4,
 "nbformat_minor": 2
}
